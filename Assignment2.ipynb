{
 "cells": [
  {
   "cell_type": "markdown",
   "metadata": {},
   "source": [
    "# Problem Statement\n",
    "\n",
    "**Linear regression by using Deep Neural network**: Implement Boston housing price prediction problem by Linear regression using Deep Neural network. Use Boston House price prediction dataset. "
   ]
  },
  {
   "cell_type": "markdown",
   "metadata": {
    "id": "YOTzZhdR9zZt"
   },
   "source": [
    "# Import Library"
   ]
  },
  {
   "cell_type": "markdown",
   "metadata": {
    "id": "YhqBbskr-iag"
   },
   "source": [
    "# Load Data"
   ]
  },
  {
   "cell_type": "code",
   "execution_count": 1,
   "metadata": {
    "colab": {
     "base_uri": "https://localhost:8080/"
    },
    "id": "ILfTB4Ow3OAU",
    "outputId": "96cf0938-0070-41b5-d59d-d32f2fda7e6e"
   },
   "outputs": [
    {
     "ename": "NameError",
     "evalue": "name 'tf' is not defined",
     "output_type": "error",
     "traceback": [
      "\u001b[31m---------------------------------------------------------------------------\u001b[39m",
      "\u001b[31mNameError\u001b[39m                                 Traceback (most recent call last)",
      "\u001b[36mCell\u001b[39m\u001b[36m \u001b[39m\u001b[32mIn[1]\u001b[39m\u001b[32m, line 1\u001b[39m\n\u001b[32m----> \u001b[39m\u001b[32m1\u001b[39m (X_train , y_train), (X_test , y_test) = \u001b[43mtf\u001b[49m.keras.datasets.boston_housing.load_data(\n\u001b[32m      2\u001b[39m                                             path = \u001b[33m'\u001b[39m\u001b[33mboston_housing_npz\u001b[39m\u001b[33m'\u001b[39m,\n\u001b[32m      3\u001b[39m                                             test_split = \u001b[32m0.2\u001b[39m,\n\u001b[32m      4\u001b[39m                                             seed = \u001b[32m42\u001b[39m\n\u001b[32m      5\u001b[39m                                         )\n",
      "\u001b[31mNameError\u001b[39m: name 'tf' is not defined"
     ]
    }
   ],
   "source": [
    "(X_train , y_train), (X_test , y_test) = tf.keras.datasets.boston_housing.load_data(\n",
    "                                            path = 'boston_housing_npz',\n",
    "                                            test_split = 0.2,\n",
    "                                            seed = 42\n",
    "                                        )"
   ]
  },
  {
   "cell_type": "markdown",
   "metadata": {
    "id": "hHPrTJsyHKSO"
   },
   "source": [
    "# Exploratory Data Analysis"
   ]
  },
  {
   "cell_type": "markdown",
   "metadata": {
    "id": "iFxpm9uu-mcs"
   },
   "source": [
    "## Initial Observation"
   ]
  },
  {
   "cell_type": "markdown",
   "metadata": {
    "id": "0S3DE2_c_8j2"
   },
   "source": [
    "## Preprocessing"
   ]
  },
  {
   "cell_type": "markdown",
   "metadata": {
    "id": "EwbgGLK9FyRG"
   },
   "source": [
    "# Model, Predict, Evaluation"
   ]
  },
  {
   "cell_type": "markdown",
   "metadata": {
    "id": "rXXjkEnchKQ0"
   },
   "source": [
    "## Creating the Model and Optimizing the Learning Rate"
   ]
  },
  {
   "cell_type": "markdown",
   "metadata": {
    "id": "wt3qQohTiNK8"
   },
   "source": [
    "learning rate = 0.01,\n",
    "batch_size = 32,\n",
    "dense_layers = 2,\n",
    "hidden_units for Dense_1 layer= 10,\n",
    "hidden_units for Dense_2 layer = 100"
   ]
  },
  {
   "cell_type": "markdown",
   "metadata": {
    "id": "VasQEdJRe9NK"
   },
   "source": [
    "## Model Evaluation"
   ]
  },
  {
   "cell_type": "markdown",
   "metadata": {
    "id": "Wsto_sf8fXM-"
   },
   "source": [
    "## Model Prediction"
   ]
  }
 ],
 "metadata": {
  "accelerator": "GPU",
  "colab": {
   "collapsed_sections": [],
   "name": "Boston_Housing_Price_Prediction_with_a_Deep_Neural_Network.ipynb",
   "provenance": [],
   "toc_visible": true
  },
  "gpuClass": "standard",
  "kernelspec": {
   "display_name": "Python 3",
   "language": "python",
   "name": "python3"
  },
  "language_info": {
   "codemirror_mode": {
    "name": "ipython",
    "version": 3
   },
   "file_extension": ".py",
   "mimetype": "text/x-python",
   "name": "python",
   "nbconvert_exporter": "python",
   "pygments_lexer": "ipython3",
   "version": "3.12.0"
  }
 },
 "nbformat": 4,
 "nbformat_minor": 1
}
